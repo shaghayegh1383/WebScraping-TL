{
 "cells": [
  {
   "cell_type": "code",
   "execution_count": 2,
   "metadata": {},
   "outputs": [
    {
     "name": "stdout",
     "output_type": "stream",
     "text": [
      "400\n"
     ]
    }
   ],
   "source": [
    "import requests\n",
    "import json\n",
    "\n",
    "username = \"sh.s.m1383@gmail.com\"\n",
    "password = \"...\"\n",
    "\n",
    "token = \"db2055f743c1ac8c30d23278a496283b1e2dd46f\"\n",
    "base_url = \"https://api.nobitex.ir/\"\n",
    "login_endpoint = \"auth/login/\"\n",
    "header = {\"Content-Type\" : \"application/json\"}\n",
    "\n",
    "\n",
    "data = {\n",
    "    \"username\" : username,\n",
    "    \"password\": password    \n",
    "}\n",
    "data = json.dumps(data)\n",
    "response = requests.post(base_url+login_endpoint , headers=header , data=data)\n",
    "\n",
    "print (response.status_code)"
   ]
  }
 ],
 "metadata": {
  "kernelspec": {
   "display_name": "Python 3",
   "language": "python",
   "name": "python3"
  },
  "language_info": {
   "codemirror_mode": {
    "name": "ipython",
    "version": 3
   },
   "file_extension": ".py",
   "mimetype": "text/x-python",
   "name": "python",
   "nbconvert_exporter": "python",
   "pygments_lexer": "ipython3",
   "version": "3.12.2"
  }
 },
 "nbformat": 4,
 "nbformat_minor": 2
}
