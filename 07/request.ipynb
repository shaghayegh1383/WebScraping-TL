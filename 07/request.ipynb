{
 "cells": [
  {
   "cell_type": "markdown",
   "metadata": {},
   "source": [
    "Get"
   ]
  },
  {
   "cell_type": "code",
   "execution_count": 1,
   "metadata": {},
   "outputs": [
    {
     "name": "stdout",
     "output_type": "stream",
     "text": [
      "200\n"
     ]
    }
   ],
   "source": [
    "import requests\n",
    "\n",
    "url = \"https://toplearn.com/\"\n",
    "img_url = \"https://toplearn.com/Site/images/logo.svg?v=2&v=zjoiRpmC09IkkzqUJsClbhkaYu4GLxaP4j0XODEc3ec\"\n",
    "response = requests.get(url)\n",
    "print (response.status_code)"
   ]
  },
  {
   "cell_type": "code",
   "execution_count": 3,
   "metadata": {},
   "outputs": [
    {
     "name": "stdout",
     "output_type": "stream",
     "text": [
      "{'Cache-Control': 'public,max-age=1296000', 'Transfer-Encoding': 'chunked', 'Content-Type': 'image/svg+xml', 'Content-Encoding': 'gzip', 'Last-Modified': 'Mon, 11 Mar 2024 23:29:14 GMT', 'Accept-Ranges': 'bytes', 'ETag': '\"1da740bed90c4f8\"', 'Vary': 'Accept-Encoding', 'Strict-Transport-Security': 'max-age=2592000', 'X-Response-Time-ms': '0', 'X-Powered-By-Plesk': 'PleskWin', 'Date': 'Mon, 08 Apr 2024 10:14:50 GMT'}\n"
     ]
    }
   ],
   "source": [
    "import requests\n",
    "img_url = \"https://toplearn.com/Site/images/logo.svg?v=2&v=zjoiRpmC09IkkzqUJsClbhkaYu4GLxaP4j0XODEc3ec\"\n",
    "response = requests.get(img_url)\n",
    "img = response.content\n",
    "with open (\"img.jpg\", \"wb\") as file:\n",
    "    file.write(img)\n",
    "    \n",
    "    header = response.headers\n",
    "    print (header)"
   ]
  },
  {
   "cell_type": "code",
   "execution_count": 5,
   "metadata": {},
   "outputs": [
    {
     "name": "stdout",
     "output_type": "stream",
     "text": [
      "<RequestsCookieJar[<Cookie .AspNetCore.Antiforgery.xX1vr0OcUbw=CfDJ8EirLy2editPttRtgprWwLipfaRzKVZB6gCcPEfQRDX4uQIzAhUshKJxIALFabRcjFW95ed5IedKW1LDEtM4JoCH3_ObXGbdUTC6geiUzMcdl-UnHAIpxpqlO4GAI6SqWQMv23rfznmM1pyuH9dE0EQ for toplearn.com/>]>\n"
     ]
    }
   ],
   "source": [
    "import requests\n",
    "url = \"https://toplearn.com/\"\n",
    "response = requests.get (url)\n",
    "header = response.cookies\n",
    "print (header)"
   ]
  },
  {
   "cell_type": "markdown",
   "metadata": {},
   "source": [
    "Api and Json"
   ]
  },
  {
   "cell_type": "code",
   "execution_count": 7,
   "metadata": {},
   "outputs": [
    {
     "name": "stdout",
     "output_type": "stream",
     "text": [
      "{'coord': {'lon': 51.4215, 'lat': 35.6944}, 'weather': [{'id': 801, 'main': 'Clouds', 'description': 'few clouds', 'icon': '02d'}], 'base': 'stations', 'main': {'temp': 298.06, 'feels_like': 297, 'temp_min': 297.94, 'temp_max': 298.14, 'pressure': 1014, 'humidity': 15}, 'visibility': 10000, 'wind': {'speed': 12.35, 'deg': 260}, 'clouds': {'all': 20}, 'dt': 1712573102, 'sys': {'type': 2, 'id': 47737, 'country': 'IR', 'sunrise': 1712542235, 'sunset': 1712588472}, 'timezone': 12600, 'id': 112931, 'name': 'Tehran', 'cod': 200}\n"
     ]
    }
   ],
   "source": [
    "import requests\n",
    "import json\n",
    "api_key = \"b395d8cf7f108cbb0568473c80535ba0\"\n",
    "url = \"https://api.openweathermap.org/data/2.5/weather?q=tehran &appid=\"\n",
    "response = requests.get (url + api_key)\n",
    "js = response.text\n",
    "record = json.loads (js)\n",
    "print (record)\n",
    "#print (response.status_code) -->200\n"
   ]
  }
 ],
 "metadata": {
  "kernelspec": {
   "display_name": "Python 3",
   "language": "python",
   "name": "python3"
  },
  "language_info": {
   "codemirror_mode": {
    "name": "ipython",
    "version": 3
   },
   "file_extension": ".py",
   "mimetype": "text/x-python",
   "name": "python",
   "nbconvert_exporter": "python",
   "pygments_lexer": "ipython3",
   "version": "3.12.2"
  }
 },
 "nbformat": 4,
 "nbformat_minor": 2
}
